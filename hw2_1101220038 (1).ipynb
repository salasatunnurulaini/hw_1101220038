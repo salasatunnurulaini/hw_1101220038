{
 "cells": [
  {
   "cell_type": "markdown",
   "id": "919e386f-77f3-4875-92bf-bc3c67fa71c7",
   "metadata": {},
   "source": [
    "Nama : Salasatun Nurul Aini ID: 1101220038"
   ]
  },
  {
   "cell_type": "code",
   "execution_count": 4,
   "id": "ea4d0ee6-d5fa-445f-8757-3fd645bb0ea3",
   "metadata": {},
   "outputs": [],
   "source": [
    "import pandas as pd\n",
    "import numpy as np\n",
    "import seaborn as sns\n",
    "import matplotlib.pyplot as plt"
   ]
  },
  {
   "cell_type": "code",
   "execution_count": 5,
   "id": "3f5e8996-ede0-45c2-8250-f016a2f8a8ce",
   "metadata": {},
   "outputs": [],
   "source": [
    "ry = pd.read_csv(\"dataset.csv\")"
   ]
  },
  {
   "cell_type": "markdown",
   "id": "a7af7e99-7fc2-444e-854f-47f0e1f64610",
   "metadata": {},
   "source": [
    "nampilin 5 data teratas"
   ]
  },
  {
   "cell_type": "code",
   "execution_count": 6,
   "id": "04c04899-4209-47b6-ac04-1bc0e43c2c43",
   "metadata": {},
   "outputs": [
    {
     "data": {
      "text/html": [
       "<div>\n",
       "<style scoped>\n",
       "    .dataframe tbody tr th:only-of-type {\n",
       "        vertical-align: middle;\n",
       "    }\n",
       "\n",
       "    .dataframe tbody tr th {\n",
       "        vertical-align: top;\n",
       "    }\n",
       "\n",
       "    .dataframe thead th {\n",
       "        text-align: right;\n",
       "    }\n",
       "</style>\n",
       "<table border=\"1\" class=\"dataframe\">\n",
       "  <thead>\n",
       "    <tr style=\"text-align: right;\">\n",
       "      <th></th>\n",
       "      <th>ID Data</th>\n",
       "      <th>Nama Produk</th>\n",
       "      <th>Jenis Kulit</th>\n",
       "      <th>Review Produk</th>\n",
       "      <th>Rating</th>\n",
       "      <th>Label</th>\n",
       "    </tr>\n",
       "  </thead>\n",
       "  <tbody>\n",
       "    <tr>\n",
       "      <th>0</th>\n",
       "      <td>A001</td>\n",
       "      <td>Cetaphil: Gentle Skin Cleanser</td>\n",
       "      <td>Oily</td>\n",
       "      <td>Aku suka banget sama ini. Cuma ini cleanser ya...</td>\n",
       "      <td>5</td>\n",
       "      <td>Positive</td>\n",
       "    </tr>\n",
       "    <tr>\n",
       "      <th>1</th>\n",
       "      <td>A002</td>\n",
       "      <td>Cetaphil: Gentle Skin Cleanser</td>\n",
       "      <td>Oily</td>\n",
       "      <td>Walaupun produknya mengklaim dapat digunakan s...</td>\n",
       "      <td>5</td>\n",
       "      <td>Positive</td>\n",
       "    </tr>\n",
       "    <tr>\n",
       "      <th>2</th>\n",
       "      <td>A003</td>\n",
       "      <td>Cetaphil: Gentle Skin Cleanser</td>\n",
       "      <td>Dry</td>\n",
       "      <td>Thanks God for this product. Produk ini udah p...</td>\n",
       "      <td>5</td>\n",
       "      <td>Positive</td>\n",
       "    </tr>\n",
       "    <tr>\n",
       "      <th>3</th>\n",
       "      <td>A004</td>\n",
       "      <td>Cetaphil: Gentle Skin Cleanser</td>\n",
       "      <td>Oily</td>\n",
       "      <td>Another favorite product from Cetaphil. Seneng...</td>\n",
       "      <td>5</td>\n",
       "      <td>Positive</td>\n",
       "    </tr>\n",
       "    <tr>\n",
       "      <th>4</th>\n",
       "      <td>A005</td>\n",
       "      <td>Cetaphil: Gentle Skin Cleanser</td>\n",
       "      <td>Oily</td>\n",
       "      <td>awalnya kaget karena cleanser ini enggak berbu...</td>\n",
       "      <td>5</td>\n",
       "      <td>Positive</td>\n",
       "    </tr>\n",
       "  </tbody>\n",
       "</table>\n",
       "</div>"
      ],
      "text/plain": [
       "  ID Data                     Nama Produk Jenis Kulit  \\\n",
       "0    A001  Cetaphil: Gentle Skin Cleanser        Oily   \n",
       "1    A002  Cetaphil: Gentle Skin Cleanser        Oily   \n",
       "2    A003  Cetaphil: Gentle Skin Cleanser         Dry   \n",
       "3    A004  Cetaphil: Gentle Skin Cleanser        Oily   \n",
       "4    A005  Cetaphil: Gentle Skin Cleanser        Oily   \n",
       "\n",
       "                                       Review Produk  Rating     Label  \n",
       "0  Aku suka banget sama ini. Cuma ini cleanser ya...       5  Positive  \n",
       "1  Walaupun produknya mengklaim dapat digunakan s...       5  Positive  \n",
       "2  Thanks God for this product. Produk ini udah p...       5  Positive  \n",
       "3  Another favorite product from Cetaphil. Seneng...       5  Positive  \n",
       "4  awalnya kaget karena cleanser ini enggak berbu...       5  Positive  "
      ]
     },
     "execution_count": 6,
     "metadata": {},
     "output_type": "execute_result"
    }
   ],
   "source": [
    "ry.head(5)"
   ]
  },
  {
   "cell_type": "markdown",
   "id": "21f1c9ba-8b88-4e01-b9ba-748bcc7ff589",
   "metadata": {},
   "source": [
    "nampilin 5 data terbawah"
   ]
  },
  {
   "cell_type": "code",
   "execution_count": 7,
   "id": "d29356e6-36a6-43fd-b17a-708c5fd7bed6",
   "metadata": {},
   "outputs": [
    {
     "data": {
      "text/html": [
       "<div>\n",
       "<style scoped>\n",
       "    .dataframe tbody tr th:only-of-type {\n",
       "        vertical-align: middle;\n",
       "    }\n",
       "\n",
       "    .dataframe tbody tr th {\n",
       "        vertical-align: top;\n",
       "    }\n",
       "\n",
       "    .dataframe thead th {\n",
       "        text-align: right;\n",
       "    }\n",
       "</style>\n",
       "<table border=\"1\" class=\"dataframe\">\n",
       "  <thead>\n",
       "    <tr style=\"text-align: right;\">\n",
       "      <th></th>\n",
       "      <th>ID Data</th>\n",
       "      <th>Nama Produk</th>\n",
       "      <th>Jenis Kulit</th>\n",
       "      <th>Review Produk</th>\n",
       "      <th>Rating</th>\n",
       "      <th>Label</th>\n",
       "    </tr>\n",
       "  </thead>\n",
       "  <tbody>\n",
       "    <tr>\n",
       "      <th>495</th>\n",
       "      <td>A496</td>\n",
       "      <td>Acnes: Creamy Wash</td>\n",
       "      <td>Dry</td>\n",
       "      <td>Aku beli ini karna baca blog female daily 3 cl...</td>\n",
       "      <td>1</td>\n",
       "      <td>negative</td>\n",
       "    </tr>\n",
       "    <tr>\n",
       "      <th>496</th>\n",
       "      <td>A497</td>\n",
       "      <td>Acnes: Creamy Wash</td>\n",
       "      <td>Dry</td>\n",
       "      <td>aku pake ini udh ngabisin 1 botol, saat aku je...</td>\n",
       "      <td>1</td>\n",
       "      <td>negative</td>\n",
       "    </tr>\n",
       "    <tr>\n",
       "      <th>497</th>\n",
       "      <td>A498</td>\n",
       "      <td>Acnes: Creamy Wash</td>\n",
       "      <td>Dry</td>\n",
       "      <td>Facial Wash yg aku beli pas awal2 mulai jerawa...</td>\n",
       "      <td>1</td>\n",
       "      <td>negative</td>\n",
       "    </tr>\n",
       "    <tr>\n",
       "      <th>498</th>\n",
       "      <td>A499</td>\n",
       "      <td>Acnes: Creamy Wash</td>\n",
       "      <td>Dry</td>\n",
       "      <td>Aku pernah beli ini dengan harapan bisa bantu ...</td>\n",
       "      <td>1</td>\n",
       "      <td>negative</td>\n",
       "    </tr>\n",
       "    <tr>\n",
       "      <th>499</th>\n",
       "      <td>A500</td>\n",
       "      <td>Acnes: Creamy Wash</td>\n",
       "      <td>Dry</td>\n",
       "      <td>Beli ini waktu awal kuliah pas banyak jerawat....</td>\n",
       "      <td>1</td>\n",
       "      <td>negative</td>\n",
       "    </tr>\n",
       "  </tbody>\n",
       "</table>\n",
       "</div>"
      ],
      "text/plain": [
       "    ID Data         Nama Produk Jenis Kulit  \\\n",
       "495    A496  Acnes: Creamy Wash         Dry   \n",
       "496    A497  Acnes: Creamy Wash         Dry   \n",
       "497    A498  Acnes: Creamy Wash         Dry   \n",
       "498    A499  Acnes: Creamy Wash         Dry   \n",
       "499    A500  Acnes: Creamy Wash         Dry   \n",
       "\n",
       "                                         Review Produk  Rating     Label  \n",
       "495  Aku beli ini karna baca blog female daily 3 cl...       1  negative  \n",
       "496  aku pake ini udh ngabisin 1 botol, saat aku je...       1  negative  \n",
       "497  Facial Wash yg aku beli pas awal2 mulai jerawa...       1  negative  \n",
       "498  Aku pernah beli ini dengan harapan bisa bantu ...       1  negative  \n",
       "499  Beli ini waktu awal kuliah pas banyak jerawat....       1  negative  "
      ]
     },
     "execution_count": 7,
     "metadata": {},
     "output_type": "execute_result"
    }
   ],
   "source": [
    "ry.tail(5)"
   ]
  },
  {
   "cell_type": "code",
   "execution_count": 8,
   "id": "818e7311-5985-427f-9ab7-5632c18599e6",
   "metadata": {},
   "outputs": [
    {
     "name": "stdout",
     "output_type": "stream",
     "text": [
      "<class 'pandas.core.frame.DataFrame'>\n",
      "RangeIndex: 500 entries, 0 to 499\n",
      "Data columns (total 6 columns):\n",
      " #   Column         Non-Null Count  Dtype \n",
      "---  ------         --------------  ----- \n",
      " 0   ID Data        500 non-null    object\n",
      " 1   Nama Produk    500 non-null    object\n",
      " 2   Jenis Kulit    500 non-null    object\n",
      " 3   Review Produk  500 non-null    object\n",
      " 4   Rating         500 non-null    int64 \n",
      " 5   Label          500 non-null    object\n",
      "dtypes: int64(1), object(5)\n",
      "memory usage: 23.6+ KB\n"
     ]
    }
   ],
   "source": [
    "ry.info()"
   ]
  },
  {
   "cell_type": "code",
   "execution_count": 9,
   "id": "4a1d814a-7f32-4915-9296-c4647272f939",
   "metadata": {},
   "outputs": [
    {
     "data": {
      "text/plain": [
       "ID Data          object\n",
       "Nama Produk      object\n",
       "Jenis Kulit      object\n",
       "Review Produk    object\n",
       "Rating            int64\n",
       "Label            object\n",
       "dtype: object"
      ]
     },
     "execution_count": 9,
     "metadata": {},
     "output_type": "execute_result"
    }
   ],
   "source": [
    "ry.dtypes"
   ]
  },
  {
   "cell_type": "code",
   "execution_count": 10,
   "id": "39920171-7650-4e37-b453-f93cc2dfd81c",
   "metadata": {},
   "outputs": [
    {
     "data": {
      "text/plain": [
       "<bound method NDFrame.describe of     ID Data                     Nama Produk Jenis Kulit  \\\n",
       "0      A001  Cetaphil: Gentle Skin Cleanser        Oily   \n",
       "1      A002  Cetaphil: Gentle Skin Cleanser        Oily   \n",
       "2      A003  Cetaphil: Gentle Skin Cleanser         Dry   \n",
       "3      A004  Cetaphil: Gentle Skin Cleanser        Oily   \n",
       "4      A005  Cetaphil: Gentle Skin Cleanser        Oily   \n",
       "..      ...                             ...         ...   \n",
       "495    A496              Acnes: Creamy Wash         Dry   \n",
       "496    A497              Acnes: Creamy Wash         Dry   \n",
       "497    A498              Acnes: Creamy Wash         Dry   \n",
       "498    A499              Acnes: Creamy Wash         Dry   \n",
       "499    A500              Acnes: Creamy Wash         Dry   \n",
       "\n",
       "                                         Review Produk  Rating     Label  \n",
       "0    Aku suka banget sama ini. Cuma ini cleanser ya...       5  Positive  \n",
       "1    Walaupun produknya mengklaim dapat digunakan s...       5  Positive  \n",
       "2    Thanks God for this product. Produk ini udah p...       5  Positive  \n",
       "3    Another favorite product from Cetaphil. Seneng...       5  Positive  \n",
       "4    awalnya kaget karena cleanser ini enggak berbu...       5  Positive  \n",
       "..                                                 ...     ...       ...  \n",
       "495  Aku beli ini karna baca blog female daily 3 cl...       1  negative  \n",
       "496  aku pake ini udh ngabisin 1 botol, saat aku je...       1  negative  \n",
       "497  Facial Wash yg aku beli pas awal2 mulai jerawa...       1  negative  \n",
       "498  Aku pernah beli ini dengan harapan bisa bantu ...       1  negative  \n",
       "499  Beli ini waktu awal kuliah pas banyak jerawat....       1  negative  \n",
       "\n",
       "[500 rows x 6 columns]>"
      ]
     },
     "execution_count": 10,
     "metadata": {},
     "output_type": "execute_result"
    }
   ],
   "source": [
    "ry.describe"
   ]
  },
  {
   "cell_type": "code",
   "execution_count": 11,
   "id": "0adc4307-d3dd-4c51-8cd6-42482378aa49",
   "metadata": {},
   "outputs": [
    {
     "data": {
      "text/html": [
       "<div>\n",
       "<style scoped>\n",
       "    .dataframe tbody tr th:only-of-type {\n",
       "        vertical-align: middle;\n",
       "    }\n",
       "\n",
       "    .dataframe tbody tr th {\n",
       "        vertical-align: top;\n",
       "    }\n",
       "\n",
       "    .dataframe thead th {\n",
       "        text-align: right;\n",
       "    }\n",
       "</style>\n",
       "<table border=\"1\" class=\"dataframe\">\n",
       "  <thead>\n",
       "    <tr style=\"text-align: right;\">\n",
       "      <th></th>\n",
       "      <th>ID Data</th>\n",
       "      <th>Nama Produk</th>\n",
       "      <th>Jenis Kulit</th>\n",
       "      <th>Review Produk</th>\n",
       "    </tr>\n",
       "  </thead>\n",
       "  <tbody>\n",
       "    <tr>\n",
       "      <th>0</th>\n",
       "      <td>A001</td>\n",
       "      <td>Cetaphil: Gentle Skin Cleanser</td>\n",
       "      <td>Oily</td>\n",
       "      <td>Aku suka banget sama ini. Cuma ini cleanser ya...</td>\n",
       "    </tr>\n",
       "    <tr>\n",
       "      <th>1</th>\n",
       "      <td>A002</td>\n",
       "      <td>Cetaphil: Gentle Skin Cleanser</td>\n",
       "      <td>Oily</td>\n",
       "      <td>Walaupun produknya mengklaim dapat digunakan s...</td>\n",
       "    </tr>\n",
       "    <tr>\n",
       "      <th>2</th>\n",
       "      <td>A003</td>\n",
       "      <td>Cetaphil: Gentle Skin Cleanser</td>\n",
       "      <td>Dry</td>\n",
       "      <td>Thanks God for this product. Produk ini udah p...</td>\n",
       "    </tr>\n",
       "    <tr>\n",
       "      <th>3</th>\n",
       "      <td>A004</td>\n",
       "      <td>Cetaphil: Gentle Skin Cleanser</td>\n",
       "      <td>Oily</td>\n",
       "      <td>Another favorite product from Cetaphil. Seneng...</td>\n",
       "    </tr>\n",
       "    <tr>\n",
       "      <th>4</th>\n",
       "      <td>A005</td>\n",
       "      <td>Cetaphil: Gentle Skin Cleanser</td>\n",
       "      <td>Oily</td>\n",
       "      <td>awalnya kaget karena cleanser ini enggak berbu...</td>\n",
       "    </tr>\n",
       "  </tbody>\n",
       "</table>\n",
       "</div>"
      ],
      "text/plain": [
       "  ID Data                     Nama Produk Jenis Kulit  \\\n",
       "0    A001  Cetaphil: Gentle Skin Cleanser        Oily   \n",
       "1    A002  Cetaphil: Gentle Skin Cleanser        Oily   \n",
       "2    A003  Cetaphil: Gentle Skin Cleanser         Dry   \n",
       "3    A004  Cetaphil: Gentle Skin Cleanser        Oily   \n",
       "4    A005  Cetaphil: Gentle Skin Cleanser        Oily   \n",
       "\n",
       "                                       Review Produk  \n",
       "0  Aku suka banget sama ini. Cuma ini cleanser ya...  \n",
       "1  Walaupun produknya mengklaim dapat digunakan s...  \n",
       "2  Thanks God for this product. Produk ini udah p...  \n",
       "3  Another favorite product from Cetaphil. Seneng...  \n",
       "4  awalnya kaget karena cleanser ini enggak berbu...  "
      ]
     },
     "execution_count": 11,
     "metadata": {},
     "output_type": "execute_result"
    }
   ],
   "source": [
    "ry = ry.drop(['Rating', 'Label'], axis=1)\n",
    "ry.head(5)"
   ]
  },
  {
   "cell_type": "code",
   "execution_count": 38,
   "id": "b3ceb89d-131c-45c3-921e-982d822fa023",
   "metadata": {},
   "outputs": [
    {
     "data": {
      "text/html": [
       "<div>\n",
       "<style scoped>\n",
       "    .dataframe tbody tr th:only-of-type {\n",
       "        vertical-align: middle;\n",
       "    }\n",
       "\n",
       "    .dataframe tbody tr th {\n",
       "        vertical-align: top;\n",
       "    }\n",
       "\n",
       "    .dataframe thead th {\n",
       "        text-align: right;\n",
       "    }\n",
       "</style>\n",
       "<table border=\"1\" class=\"dataframe\">\n",
       "  <thead>\n",
       "    <tr style=\"text-align: right;\">\n",
       "      <th></th>\n",
       "      <th>ID</th>\n",
       "      <th>Nama Produk</th>\n",
       "      <th>Dermatype</th>\n",
       "      <th>Review Customer</th>\n",
       "    </tr>\n",
       "  </thead>\n",
       "  <tbody>\n",
       "    <tr>\n",
       "      <th>0</th>\n",
       "      <td>A001</td>\n",
       "      <td>Cetaphil: Gentle Skin Cleanser</td>\n",
       "      <td>Oily</td>\n",
       "      <td>Aku suka banget sama ini. Cuma ini cleanser ya...</td>\n",
       "    </tr>\n",
       "    <tr>\n",
       "      <th>1</th>\n",
       "      <td>A002</td>\n",
       "      <td>Cetaphil: Gentle Skin Cleanser</td>\n",
       "      <td>Oily</td>\n",
       "      <td>Walaupun produknya mengklaim dapat digunakan s...</td>\n",
       "    </tr>\n",
       "    <tr>\n",
       "      <th>2</th>\n",
       "      <td>A003</td>\n",
       "      <td>Cetaphil: Gentle Skin Cleanser</td>\n",
       "      <td>Dry</td>\n",
       "      <td>Thanks God for this product. Produk ini udah p...</td>\n",
       "    </tr>\n",
       "    <tr>\n",
       "      <th>3</th>\n",
       "      <td>A004</td>\n",
       "      <td>Cetaphil: Gentle Skin Cleanser</td>\n",
       "      <td>Oily</td>\n",
       "      <td>Another favorite product from Cetaphil. Seneng...</td>\n",
       "    </tr>\n",
       "    <tr>\n",
       "      <th>4</th>\n",
       "      <td>A005</td>\n",
       "      <td>Cetaphil: Gentle Skin Cleanser</td>\n",
       "      <td>Oily</td>\n",
       "      <td>awalnya kaget karena cleanser ini enggak berbu...</td>\n",
       "    </tr>\n",
       "  </tbody>\n",
       "</table>\n",
       "</div>"
      ],
      "text/plain": [
       "     ID                     Nama Produk Dermatype  \\\n",
       "0  A001  Cetaphil: Gentle Skin Cleanser      Oily   \n",
       "1  A002  Cetaphil: Gentle Skin Cleanser      Oily   \n",
       "2  A003  Cetaphil: Gentle Skin Cleanser       Dry   \n",
       "3  A004  Cetaphil: Gentle Skin Cleanser      Oily   \n",
       "4  A005  Cetaphil: Gentle Skin Cleanser      Oily   \n",
       "\n",
       "                                     Review Customer  \n",
       "0  Aku suka banget sama ini. Cuma ini cleanser ya...  \n",
       "1  Walaupun produknya mengklaim dapat digunakan s...  \n",
       "2  Thanks God for this product. Produk ini udah p...  \n",
       "3  Another favorite product from Cetaphil. Seneng...  \n",
       "4  awalnya kaget karena cleanser ini enggak berbu...  "
      ]
     },
     "execution_count": 38,
     "metadata": {},
     "output_type": "execute_result"
    }
   ],
   "source": [
    "ry = ry.rename(columns={\"ID Data\": \"ID\", \"Review Produk\": \"Review\", \"Jenis Kulit\" : \"Dermatype\"})\n",
    "ry.head(5)"
   ]
  },
  {
   "cell_type": "code",
   "execution_count": 39,
   "id": "431a463f-7a4a-44e3-a0b8-e739695ec6ae",
   "metadata": {},
   "outputs": [
    {
     "data": {
      "text/plain": [
       "(500, 4)"
      ]
     },
     "execution_count": 39,
     "metadata": {},
     "output_type": "execute_result"
    }
   ],
   "source": [
    "ry.shape"
   ]
  },
  {
   "cell_type": "code",
   "execution_count": 40,
   "id": "6f6b1b08-12ad-44f9-a430-cd26722242e6",
   "metadata": {},
   "outputs": [
    {
     "name": "stdout",
     "output_type": "stream",
     "text": [
      "number of duplicate rows:  (0, 4)\n"
     ]
    }
   ],
   "source": [
    "duplicate_rows_ry = ry[ry.duplicated()]\n",
    "print(\"number of duplicate rows: \", duplicate_rows_ry.shape)"
   ]
  },
  {
   "cell_type": "code",
   "execution_count": 41,
   "id": "4e55bf8e-4b86-4a62-b06d-bcdf8326f250",
   "metadata": {},
   "outputs": [
    {
     "data": {
      "text/plain": [
       "ID                 500\n",
       "Nama Produk        500\n",
       "Dermatype          500\n",
       "Review Customer    500\n",
       "dtype: int64"
      ]
     },
     "execution_count": 41,
     "metadata": {},
     "output_type": "execute_result"
    }
   ],
   "source": [
    "ry.count()"
   ]
  },
  {
   "cell_type": "code",
   "execution_count": 42,
   "id": "91f3c122-eaae-4892-81dc-6f6858f60a56",
   "metadata": {},
   "outputs": [
    {
     "data": {
      "text/html": [
       "<div>\n",
       "<style scoped>\n",
       "    .dataframe tbody tr th:only-of-type {\n",
       "        vertical-align: middle;\n",
       "    }\n",
       "\n",
       "    .dataframe tbody tr th {\n",
       "        vertical-align: top;\n",
       "    }\n",
       "\n",
       "    .dataframe thead th {\n",
       "        text-align: right;\n",
       "    }\n",
       "</style>\n",
       "<table border=\"1\" class=\"dataframe\">\n",
       "  <thead>\n",
       "    <tr style=\"text-align: right;\">\n",
       "      <th></th>\n",
       "      <th>ID</th>\n",
       "      <th>Nama Produk</th>\n",
       "      <th>Dermatype</th>\n",
       "      <th>Review Customer</th>\n",
       "    </tr>\n",
       "  </thead>\n",
       "  <tbody>\n",
       "    <tr>\n",
       "      <th>0</th>\n",
       "      <td>A001</td>\n",
       "      <td>Cetaphil: Gentle Skin Cleanser</td>\n",
       "      <td>Oily</td>\n",
       "      <td>Aku suka banget sama ini. Cuma ini cleanser ya...</td>\n",
       "    </tr>\n",
       "    <tr>\n",
       "      <th>1</th>\n",
       "      <td>A002</td>\n",
       "      <td>Cetaphil: Gentle Skin Cleanser</td>\n",
       "      <td>Oily</td>\n",
       "      <td>Walaupun produknya mengklaim dapat digunakan s...</td>\n",
       "    </tr>\n",
       "    <tr>\n",
       "      <th>2</th>\n",
       "      <td>A003</td>\n",
       "      <td>Cetaphil: Gentle Skin Cleanser</td>\n",
       "      <td>Dry</td>\n",
       "      <td>Thanks God for this product. Produk ini udah p...</td>\n",
       "    </tr>\n",
       "    <tr>\n",
       "      <th>3</th>\n",
       "      <td>A004</td>\n",
       "      <td>Cetaphil: Gentle Skin Cleanser</td>\n",
       "      <td>Oily</td>\n",
       "      <td>Another favorite product from Cetaphil. Seneng...</td>\n",
       "    </tr>\n",
       "    <tr>\n",
       "      <th>4</th>\n",
       "      <td>A005</td>\n",
       "      <td>Cetaphil: Gentle Skin Cleanser</td>\n",
       "      <td>Oily</td>\n",
       "      <td>awalnya kaget karena cleanser ini enggak berbu...</td>\n",
       "    </tr>\n",
       "  </tbody>\n",
       "</table>\n",
       "</div>"
      ],
      "text/plain": [
       "     ID                     Nama Produk Dermatype  \\\n",
       "0  A001  Cetaphil: Gentle Skin Cleanser      Oily   \n",
       "1  A002  Cetaphil: Gentle Skin Cleanser      Oily   \n",
       "2  A003  Cetaphil: Gentle Skin Cleanser       Dry   \n",
       "3  A004  Cetaphil: Gentle Skin Cleanser      Oily   \n",
       "4  A005  Cetaphil: Gentle Skin Cleanser      Oily   \n",
       "\n",
       "                                     Review Customer  \n",
       "0  Aku suka banget sama ini. Cuma ini cleanser ya...  \n",
       "1  Walaupun produknya mengklaim dapat digunakan s...  \n",
       "2  Thanks God for this product. Produk ini udah p...  \n",
       "3  Another favorite product from Cetaphil. Seneng...  \n",
       "4  awalnya kaget karena cleanser ini enggak berbu...  "
      ]
     },
     "execution_count": 42,
     "metadata": {},
     "output_type": "execute_result"
    }
   ],
   "source": [
    "ry = ry.drop_duplicates()\n",
    "ry.head(5)"
   ]
  },
  {
   "cell_type": "code",
   "execution_count": 43,
   "id": "4de58465-16e8-48d1-8b01-bc71d2595574",
   "metadata": {},
   "outputs": [
    {
     "data": {
      "text/plain": [
       "ID                 500\n",
       "Nama Produk        500\n",
       "Dermatype          500\n",
       "Review Customer    500\n",
       "dtype: int64"
      ]
     },
     "execution_count": 43,
     "metadata": {},
     "output_type": "execute_result"
    }
   ],
   "source": [
    "ry.count()"
   ]
  },
  {
   "cell_type": "code",
   "execution_count": 44,
   "id": "52d9b368-e4c7-434f-ade3-fa672245aeb1",
   "metadata": {},
   "outputs": [
    {
     "name": "stdout",
     "output_type": "stream",
     "text": [
      "ID                 0\n",
      "Nama Produk        0\n",
      "Dermatype          0\n",
      "Review Customer    0\n",
      "dtype: int64\n"
     ]
    }
   ],
   "source": [
    "print(ry.isna().sum())"
   ]
  },
  {
   "cell_type": "code",
   "execution_count": 45,
   "id": "77bc803e-122a-4c93-9ac3-80500120e46a",
   "metadata": {},
   "outputs": [
    {
     "data": {
      "text/plain": [
       "ID                 500\n",
       "Nama Produk        500\n",
       "Dermatype          500\n",
       "Review Customer    500\n",
       "dtype: int64"
      ]
     },
     "execution_count": 45,
     "metadata": {},
     "output_type": "execute_result"
    }
   ],
   "source": [
    "ry = ry.dropna()    # Dropping the missing values.\n",
    "ry.count()"
   ]
  },
  {
   "cell_type": "code",
   "execution_count": 46,
   "id": "fc0050ef-0926-4335-8557-2deae451e3eb",
   "metadata": {},
   "outputs": [
    {
     "name": "stdout",
     "output_type": "stream",
     "text": [
      "ID                 0\n",
      "Nama Produk        0\n",
      "Dermatype          0\n",
      "Review Customer    0\n",
      "dtype: int64\n"
     ]
    }
   ],
   "source": [
    "print(ry.isnull().sum())"
   ]
  },
  {
   "cell_type": "code",
   "execution_count": 47,
   "id": "93ed4a56-708e-4466-a08f-430f84cd330e",
   "metadata": {},
   "outputs": [
    {
     "data": {
      "text/plain": [
       "<Axes: xlabel='Nama Produk'>"
      ]
     },
     "execution_count": 47,
     "metadata": {},
     "output_type": "execute_result"
    },
    {
     "data": {
      "image/png": "[encoded data removed]",
      "text/plain": [
       "<Figure size 640x480 with 1 Axes>"
      ]
     },
     "metadata": {},
     "output_type": "display_data"
    }
   ],
   "source": [
    "sns.boxplot(x=ry['Nama Produk'])"
   ]
  },
  {
   "cell_type": "code",
   "execution_count": 49,
   "id": "5f73e832-1224-4bce-aff6-fb4ae7bb1a8d",
   "metadata": {},
   "outputs": [
    {
     "data": {
      "text/plain": [
       "<Axes: xlabel='Dermatype'>"
      ]
     },
     "execution_count": 49,
     "metadata": {},
     "output_type": "execute_result"
    },
    {
     "data": {
      "image/png": "[encoded data removed]",
      "text/plain": [
       "<Figure size 640x480 with 1 Axes>"
      ]
     },
     "metadata": {},
     "output_type": "display_data"
    }
   ],
   "source": [
    "sns.boxplot(x=ry['Dermatype'])"
   ]
  },
  {
   "cell_type": "code",
   "execution_count": 50,
   "id": "e6cf4770-932f-4fb2-a63f-d82ae5bcea0b",
   "metadata": {},
   "outputs": [],
   "source": [
    "ry_numeric = ry.select_dtypes(include=['number'])\n",
    "Q1 = ry_numeric.quantile(0.25)\n",
    "Q3 = ry_numeric.quantile(0.75)\n",
    "IQR = Q3 - Q1"
   ]
  },
  {
   "cell_type": "code",
   "execution_count": 51,
   "id": "816e0c95-3ee6-49f0-9af1-b9f667800ee7",
   "metadata": {},
   "outputs": [
    {
     "name": "stdout",
     "output_type": "stream",
     "text": [
      "(500, 4)\n"
     ]
    }
   ],
   "source": [
    "ry_numeric_cleaned = ry_numeric[~((ry_numeric < (Q1 - 1.5 * IQR)) | \n",
    "(ry_numeric > (Q3 + 1.5 * IQR))).any(axis=1)]\n",
    "ry_cleaned = ry.loc[ry_numeric_cleaned.index]\n",
    "print(ry_cleaned.shape)"
   ]
  },
  {
   "cell_type": "code",
   "execution_count": 52,
   "id": "afb36bcd-15b9-4c9d-ac87-aecdaf34f889",
   "metadata": {},
   "outputs": [
    {
     "data": {
      "image/png": "[encoded data removed]",
      "text/plain": [
       "<Figure size 1000x500 with 1 Axes>"
      ]
     },
     "metadata": {},
     "output_type": "display_data"
    }
   ],
   "source": [
    "ry.Dermatype.value_counts().nlargest(40).plot(kind='bar', figsize=(10,5))\n",
    "plt.title(\"Jumlah skincare berdasarkan Dermatype\")\n",
    "plt.ylabel('Jumlah skincare')\n",
    "plt.xlabel('Dermatype')\n",
    "plt.show()"
   ]
  },
  {
   "cell_type": "code",
   "execution_count": 70,
   "id": "6fa4dbfc-268b-4921-b20b-f3e116b4afb5",
   "metadata": {},
   "outputs": [],
   "source": [
    "ry_numeric = ry.select_dtypes(include=['number'])"
   ]
  },
  {
   "cell_type": "code",
   "execution_count": 71,
   "id": "127d13b7-5175-49f2-b8e9-0c6787a0362a",
   "metadata": {},
   "outputs": [],
   "source": [
    "c = ry_numeric.corr()"
   ]
  },
  {
   "cell_type": "code",
   "execution_count": 74,
   "id": "f856e745-1149-4754-a900-874415bdb549",
   "metadata": {},
   "outputs": [
    {
     "data": {
      "image/png": "[encoded data removed]",
      "text/plain": [
       "<Figure size 1000x600 with 1 Axes>"
      ]
     },
     "metadata": {},
     "output_type": "display_data"
    }
   ],
   "source": [
    "fig, ax = plt.subplots(figsize=(10,6))\n",
    "ax.scatter(ry['ID'], ry['Dermatype'])\n",
    "ax.set_xlabel('ID')\n",
    "ax.set_ylabel('Dermatype')\n",
    "plt.show()"
   ]
  },
  {
   "cell_type": "code",
   "execution_count": null,
   "id": "d35c5c58-5e4f-4343-9a45-94bd3736d1c5",
   "metadata": {},
   "outputs": [],
   "source": []
  }
 ],
 "metadata": {
  "kernelspec": {
   "display_name": "Python 3 (ipykernel)",
   "language": "python",
   "name": "python3"
  },
  "language_info": {
   "codemirror_mode": {
    "name": "ipython",
    "version": 3
   },
   "file_extension": ".py",
   "mimetype": "text/x-python",
   "name": "python",
   "nbconvert_exporter": "python",
   "pygments_lexer": "ipython3",
   "version": "3.12.7"
  }
 },
 "nbformat": 4,
 "nbformat_minor": 5
}
